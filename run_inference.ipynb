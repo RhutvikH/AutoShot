{
 "cells": [
  {
   "cell_type": "code",
   "execution_count": 1,
   "metadata": {},
   "outputs": [],
   "source": [
    "import os\n",
    "import numpy as np\n",
    "import matplotlib.pyplot as plt\n",
    "from utils import mAP_f1_p_fix_r\n",
    "from utils import evaluate_scenes, predictions_to_scenes\n",
    "from utils import get_frames, get_batches, scenes2zero_one_representation, visualize_predictions\n",
    "import ffmpeg\n",
    "\n",
    "import os\n",
    "import pickle\n",
    "from tqdm import tqdm\n",
    "\n",
    "import numpy as np\n",
    "import torch"
   ]
  },
  {
   "cell_type": "code",
   "execution_count": 10,
   "metadata": {},
   "outputs": [],
   "source": [
    "fnm_path_dict = {}\n",
    "dir_list = [\"custom/\"] ### Add directories names here for inference\n",
    "\n",
    "### Loads videos from dir_list adds them with their path to fnm_path_dict\n",
    "for cur_dir in dir_list:\n",
    "    for fnm in os.listdir(cur_dir):\n",
    "        if fnm.endswith(\".mp4\"):\n",
    "            fnm_path_dict[fnm[:-len(\".mp4\")]] = cur_dir + fnm\n",
    "        elif fnm.endswith(\".webm\"):\n",
    "            fnm_path_dict[fnm[:-len(\".webm\")]] = cur_dir + fnm\n",
    "\n",
    "# print(fnm_path_dict)"
   ]
  },
  {
   "cell_type": "code",
   "execution_count": 11,
   "metadata": {},
   "outputs": [],
   "source": [
    "### max F1 - A\n",
    "### Chosen AutoShot model\n",
    "from supernet_flattransf_3_8_8_8_13_12_0_16_60 import TransNetV2Supernet\n",
    "supernet_best_f1 = TransNetV2Supernet().eval() ### Eval mode"
   ]
  },
  {
   "cell_type": "code",
   "execution_count": 12,
   "metadata": {},
   "outputs": [
    {
     "name": "stdout",
     "output_type": "stream",
     "text": [
      "Loading pretrained_path from ./ckpt_0_200_0.pth\n",
      "Current model has 90 params, Updating 90 params from checkpoint\n",
      "Cuda available. Switching to cuda.\n"
     ]
    }
   ],
   "source": [
    "### Cuda / CPU\n",
    "if torch.cuda.is_available() is True:\n",
    "    device = \"cuda\"\n",
    "else:\n",
    "    device = \"cpu\"\n",
    "\n",
    "### Pretrained model weights loading\n",
    "pretrained_path = os.path.join(\"./ckpt_0_200_0.pth\")\n",
    "if os.path.exists(pretrained_path):\n",
    "    print('Loading pretrained_path from %s' % pretrained_path)\n",
    "\n",
    "    model_dict = supernet_best_f1.state_dict() ### dictionary of current weights in model as an ordered_dict\n",
    "    pretrained_dict = torch.load(pretrained_path, map_location=device)\n",
    "\n",
    "    # for k, v in pretrained_dict.items():\n",
    "    #     print(k, type(v)) ### Ordered dict with layer_names:weights and name: 'net'\n",
    "    \n",
    "    ###! Only updates keys that are present in model_dict.. Important if finetuning\n",
    "    pretrained_dict = {k: v for k, v in pretrained_dict['net'].items() if k in model_dict}\n",
    "    print(\"Current model has %d params, Updating %d params from checkpoint\" % (len(model_dict), len(pretrained_dict)))\n",
    "\n",
    "    ### Update weights present in model\n",
    "    model_dict.update(pretrained_dict)\n",
    "    supernet_best_f1.load_state_dict(model_dict) ### load all relevant weights to best supernet\n",
    "\n",
    "else:\n",
    "    raise Exception(\"Error: Can NOT find pretrained best model!!\")\n",
    "\n",
    "### Switch to cuda if available\n",
    "if device == \"cuda\":\n",
    "    print(\"Cuda available. Switching to cuda.\")\n",
    "    supernet_best_f1 = supernet_best_f1.cuda(0)"
   ]
  },
  {
   "cell_type": "code",
   "execution_count": 13,
   "metadata": {},
   "outputs": [],
   "source": [
    "supernet_best_f1.eval()\n",
    "\n",
    "# Evaluation\n",
    "def predict(batch):\n",
    "    batch = torch.from_numpy(batch.transpose((3, 0, 1, 2))[np.newaxis, ...]) * 1.0\n",
    "    batch = batch.to(device)\n",
    "    one_hot = supernet_best_f1(batch)\n",
    "    if isinstance(one_hot, tuple):\n",
    "        one_hot = one_hot[0]\n",
    "\n",
    "    return torch.sigmoid(one_hot[0])"
   ]
  },
  {
   "cell_type": "code",
   "execution_count": 14,
   "metadata": {},
   "outputs": [
    {
     "name": "stderr",
     "output_type": "stream",
     "text": [
      "100%|██████████| 6/6 [00:29<00:00,  4.94s/it]\n"
     ]
    }
   ],
   "source": [
    "supernet_best_f1_one_hot_pred_dict_custom = {}\n",
    "i = 0\n",
    "\n",
    "for fnm in tqdm(fnm_path_dict):\n",
    "    i += 1\n",
    "    # print(i, fnm)\n",
    "\n",
    "    predictions = []\n",
    "\n",
    "    frames = get_frames(fnm_path_dict[fnm])\n",
    "\n",
    "    for batch in get_batches(frames):\n",
    "\n",
    "        one_hot = predict(batch)\n",
    "        one_hot = one_hot.detach().cpu().numpy()\n",
    "        predictions.append(one_hot[25:75])\n",
    "\n",
    "    predictions = np.concatenate(predictions, 0)[:len(frames)]\n",
    "    supernet_best_f1_one_hot_pred_dict_custom[fnm] = predictions"
   ]
  },
  {
   "cell_type": "code",
   "execution_count": 15,
   "metadata": {},
   "outputs": [],
   "source": [
    "# ### Saving best model predictions - Use if saving is needed\n",
    "# with open('./custom_pickles/supernet_best_custom.pickle', 'wb') as handle:\n",
    "#     pickle.dump(supernet_best_f1_one_hot_pred_dict, handle, protocol=pickle.HIGHEST_PROTOCOL)\n",
    "# handle.close()"
   ]
  },
  {
   "cell_type": "code",
   "execution_count": 16,
   "metadata": {},
   "outputs": [],
   "source": [
    "# ### Load saved model\n",
    "# with open('./custom_pickles/supernet_best_custom.pickle', 'rb') as handle:\n",
    "#     supernet_best_f1_one_hot_pred_dict_custom = pickle.load(handle)\n",
    "# handle.close()"
   ]
  },
  {
   "cell_type": "code",
   "execution_count": 17,
   "metadata": {},
   "outputs": [
    {
     "name": "stderr",
     "output_type": "stream",
     "text": [
      "100%|██████████| 6/6 [00:19<00:00,  3.25s/it]\n"
     ]
    }
   ],
   "source": [
    "### Visualize predictions\n",
    "\n",
    "for fnm in tqdm(fnm_path_dict):\n",
    "    frames = get_frames(fnm_path_dict[fnm])\n",
    "    c_preds = (supernet_best_f1_one_hot_pred_dict_custom[fnm]>0.296).astype(np.uint8).flatten()\n",
    "\n",
    "    img = visualize_predictions(\n",
    "        frames,\n",
    "        predictions=c_preds,\n",
    "        show_frame_num=True\n",
    "    )\n",
    "\n",
    "    if not os.path.exists(\"./custom_preds/\"):\n",
    "        os.mkdir(\"./custom_preds/\")\n",
    "    im = img.save(\"./custom_preds/\" + fnm + \".png\")"
   ]
  },
  {
   "cell_type": "code",
   "execution_count": null,
   "metadata": {},
   "outputs": [],
   "source": []
  }
 ],
 "metadata": {
  "kernelspec": {
   "display_name": "Python 3",
   "language": "python",
   "name": "python3"
  },
  "language_info": {
   "codemirror_mode": {
    "name": "ipython",
    "version": 3
   },
   "file_extension": ".py",
   "mimetype": "text/x-python",
   "name": "python",
   "nbconvert_exporter": "python",
   "pygments_lexer": "ipython3",
   "version": "3.11.0"
  }
 },
 "nbformat": 4,
 "nbformat_minor": 2
}
